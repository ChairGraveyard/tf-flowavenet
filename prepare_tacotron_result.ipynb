{
 "cells": [
  {
   "cell_type": "code",
   "execution_count": 1,
   "metadata": {},
   "outputs": [],
   "source": [
    "import os\n",
    "from shutil import copyfile\n",
    "from tqdm import tqdm\n",
    "import numpy as np\n",
    "from tfrecord import TFRecordCreator\n",
    "from hparams import hparams"
   ]
  },
  {
   "cell_type": "code",
   "execution_count": 2,
   "metadata": {},
   "outputs": [],
   "source": [
    "tacotron_out = '/NVME_DISK/Tacotron-2/tacotron_output/gta/'\n",
    "tacotron_dir = '/NVME_DISK/Tacotron-2/'\n",
    "\n",
    "with open(os.path.join(tacotron_out, 'map.txt'), 'rt', encoding='utf-8') as f:\n",
    "    tacotron_meta = f.read().strip().split('\\n')\n",
    "    tacotron_meta = [m.split('|') for m in tacotron_meta]"
   ]
  },
  {
   "cell_type": "code",
   "execution_count": 3,
   "metadata": {},
   "outputs": [
    {
     "name": "stderr",
     "output_type": "stream",
     "text": [
      "100%|██████████| 11036/11036 [00:12<00:00, 893.47it/s]\n"
     ]
    }
   ],
   "source": [
    "with open('training_data/train.txt', 'wt', encoding='utf-8') as f:\n",
    "    for m in tqdm(tacotron_meta):\n",
    "        audio_basename = os.path.basename(m[0])\n",
    "        audio_dst = os.path.join('training_data/audios', audio_basename)\n",
    "        copyfile(os.path.join(tacotron_dir, m[0]) , audio_dst)\n",
    "        mel_basename = os.path.basename(m[2])\n",
    "        mel_dst = os.path.join('training_data/mels', mel_basename)\n",
    "        mel = np.load(os.path.join(tacotron_dir, m[2]))\n",
    "        mel = np.clip(mel, -4, 4)\n",
    "        mel = ((mel + 4) / 8).astype(np.float32)\n",
    "        np.save(mel_dst, mel, allow_pickle=False)\n",
    "        row = f'{audio_basename}|{mel_basename}|-1|0|{m[4]}\\n'\n",
    "        f.write(row)\n",
    "    f.flush()"
   ]
  },
  {
   "cell_type": "code",
   "execution_count": 4,
   "metadata": {},
   "outputs": [
    {
     "name": "stderr",
     "output_type": "stream",
     "text": [
      "100%|██████████| 11026/11026 [07:48<00:00, 23.52it/s]\n",
      "100%|██████████| 10/10 [00:00<00:00, 19.18it/s]\n"
     ]
    }
   ],
   "source": [
    "creator = TFRecordCreator('training_data/train.txt', hparams)\n",
    "creator.create_tfrecords()"
   ]
  },
  {
   "cell_type": "code",
   "execution_count": null,
   "metadata": {},
   "outputs": [],
   "source": []
  }
 ],
 "metadata": {
  "kernelspec": {
   "display_name": "Python 3",
   "language": "python",
   "name": "python3"
  },
  "language_info": {
   "codemirror_mode": {
    "name": "ipython",
    "version": 3
   },
   "file_extension": ".py",
   "mimetype": "text/x-python",
   "name": "python",
   "nbconvert_exporter": "python",
   "pygments_lexer": "ipython3",
   "version": "3.6.7"
  }
 },
 "nbformat": 4,
 "nbformat_minor": 2
}
